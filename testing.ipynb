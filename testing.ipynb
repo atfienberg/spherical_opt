{
 "cells": [
  {
   "cell_type": "code",
   "execution_count": 65,
   "metadata": {},
   "outputs": [
    {
     "name": "stdout",
     "output_type": "stream",
     "text": [
      "The autoreload extension is already loaded. To reload it, use:\n",
      "  %reload_ext autoreload\n"
     ]
    }
   ],
   "source": [
    "%load_ext autoreload\n",
    "%autoreload 2\n",
    "from spherical_opt import spherical_opt\n",
    "import numpy as np\n",
    "from scipy.special import sph_harm\n"
   ]
  },
  {
   "cell_type": "code",
   "execution_count": null,
   "metadata": {},
   "outputs": [],
   "source": []
  },
  {
   "cell_type": "code",
   "execution_count": 2,
   "metadata": {},
   "outputs": [],
   "source": [
    "def fun(x):\n",
    "    return np.sum(np.square(x))"
   ]
  },
  {
   "cell_type": "code",
   "execution_count": 94,
   "metadata": {},
   "outputs": [],
   "source": [
    "def fun(x):\n",
    "    #new_y, new_x = rotate_point(x[1], x[0], 0, 0)#np.pi)\n",
    "    #if not bad:\n",
    "    #    new_x -= np.pi\n",
    "    #    new_x = new_x % (2*np.pi)\n",
    "    \n",
    "    val = sph_harm(1,1,x[0],x[1]).real\n",
    "    #val += (np.random.randn()-1)/200.\n",
    "    \n",
    "    val += np.sum(np.square(x[2:]))\n",
    "    \n",
    "    return val"
   ]
  },
  {
   "cell_type": "code",
   "execution_count": 95,
   "metadata": {},
   "outputs": [
    {
     "data": {
      "text/plain": [
       "4.007217217397656"
      ]
     },
     "execution_count": 95,
     "metadata": {},
     "output_type": "execute_result"
    }
   ],
   "source": [
    "fun(np.random.rand(10))"
   ]
  },
  {
   "cell_type": "code",
   "execution_count": 97,
   "metadata": {},
   "outputs": [],
   "source": [
    "initial_points = np.random.rand(30).reshape(-1,3)"
   ]
  },
  {
   "cell_type": "code",
   "execution_count": 98,
   "metadata": {},
   "outputs": [
    {
     "data": {
      "text/plain": [
       "array([[0.91001719, 0.57789226, 0.38908395],\n",
       "       [0.56952441, 0.60797198, 0.64959984],\n",
       "       [0.21569921, 0.18483061, 0.19679484],\n",
       "       [0.47908639, 0.79264104, 0.43114931],\n",
       "       [0.16615845, 0.82332009, 0.46167039],\n",
       "       [0.91407335, 0.06169189, 0.77451418],\n",
       "       [0.87873104, 0.01937351, 0.27671703],\n",
       "       [0.91238   , 0.1487494 , 0.49798797],\n",
       "       [0.6028234 , 0.96808346, 0.29574367],\n",
       "       [0.05681542, 0.28094471, 0.80665297]])"
      ]
     },
     "execution_count": 98,
     "metadata": {},
     "output_type": "execute_result"
    }
   ],
   "source": [
    "initial_points"
   ]
  },
  {
   "cell_type": "code",
   "execution_count": 99,
   "metadata": {},
   "outputs": [
    {
     "name": "stdout",
     "output_type": "stream",
     "text": [
      "WARNING: number of points is very low\n"
     ]
    },
    {
     "data": {
      "text/plain": [
       "(1, array([ 1.63376740e-07,  1.57079637e+00, -1.81394821e-08]))"
      ]
     },
     "execution_count": 99,
     "metadata": {},
     "output_type": "execute_result"
    }
   ],
   "source": [
    "spherical_opt(fun, method='CRS2', initial_points=initial_points, fstd=1e-14, spherical_indices=[[0,1]])"
   ]
  },
  {
   "cell_type": "code",
   "execution_count": 84,
   "metadata": {},
   "outputs": [
    {
     "data": {
      "text/plain": [
       "array([], dtype=float64)"
      ]
     },
     "execution_count": 84,
     "metadata": {},
     "output_type": "execute_result"
    }
   ],
   "source": [
    "np.sum([[]], axis=0)/"
   ]
  },
  {
   "cell_type": "code",
   "execution_count": null,
   "metadata": {},
   "outputs": [],
   "source": []
  }
 ],
 "metadata": {
  "kernelspec": {
   "display_name": "",
   "name": ""
  },
  "language_info": {
   "codemirror_mode": {
    "name": "ipython",
    "version": 2
   },
   "file_extension": ".py",
   "mimetype": "text/x-python",
   "name": "python",
   "nbconvert_exporter": "python",
   "pygments_lexer": "ipython2",
   "version": "2.7.15"
  }
 },
 "nbformat": 4,
 "nbformat_minor": 2
}
