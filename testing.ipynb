{
 "cells": [
  {
   "cell_type": "code",
   "execution_count": 1,
   "metadata": {},
   "outputs": [],
   "source": [
    "%load_ext autoreload\n",
    "%autoreload 2\n",
    "from spherical_opt import spherical_opt\n",
    "import numpy as np"
   ]
  },
  {
   "cell_type": "code",
   "execution_count": null,
   "metadata": {},
   "outputs": [],
   "source": []
  },
  {
   "cell_type": "code",
   "execution_count": 2,
   "metadata": {},
   "outputs": [],
   "source": [
    "def fun(x):\n",
    "    return np.sum(np.square(x))"
   ]
  },
  {
   "cell_type": "code",
   "execution_count": 3,
   "metadata": {},
   "outputs": [
    {
     "data": {
      "text/plain": [
       "3.967107016851556"
      ]
     },
     "execution_count": 3,
     "metadata": {},
     "output_type": "execute_result"
    }
   ],
   "source": [
    "fun(np.random.rand(10))"
   ]
  },
  {
   "cell_type": "code",
   "execution_count": 41,
   "metadata": {},
   "outputs": [],
   "source": [
    "initial_points = np.random.rand(45).reshape(15,3)"
   ]
  },
  {
   "cell_type": "code",
   "execution_count": 42,
   "metadata": {},
   "outputs": [
    {
     "data": {
      "text/plain": [
       "array([[0.16041244, 0.64879982, 0.15597032],\n",
       "       [0.47454638, 0.61010355, 0.69645635],\n",
       "       [0.46878752, 0.02454968, 0.49026852],\n",
       "       [0.04513831, 0.66732459, 0.47281201],\n",
       "       [0.23993004, 0.06494509, 0.94733139],\n",
       "       [0.36992623, 0.21988166, 0.62813421],\n",
       "       [0.19677566, 0.95537615, 0.20720358],\n",
       "       [0.7236502 , 0.87455305, 0.38752868],\n",
       "       [0.44636805, 0.95634058, 0.25791722],\n",
       "       [0.0759163 , 0.44948155, 0.15105145],\n",
       "       [0.53214882, 0.47800783, 0.04121388],\n",
       "       [0.14296483, 0.14312708, 0.68980181],\n",
       "       [0.98880155, 0.91899238, 0.92501777],\n",
       "       [0.14629272, 0.95683921, 0.86083376],\n",
       "       [0.94664976, 0.31419299, 0.9742221 ]])"
      ]
     },
     "execution_count": 42,
     "metadata": {},
     "output_type": "execute_result"
    }
   ],
   "source": [
    "initial_points"
   ]
  },
  {
   "cell_type": "code",
   "execution_count": 45,
   "metadata": {},
   "outputs": [
    {
     "data": {
      "text/plain": [
       "(1, array([ 1.56861579e-08, -1.28111398e-08, -3.43159831e-08]))"
      ]
     },
     "execution_count": 45,
     "metadata": {},
     "output_type": "execute_result"
    }
   ],
   "source": [
    "spherical_opt(fun, method='CRS2', initial_points=initial_points, fstd=1e-14)"
   ]
  },
  {
   "cell_type": "code",
   "execution_count": null,
   "metadata": {},
   "outputs": [],
   "source": []
  }
 ],
 "metadata": {
  "kernelspec": {
   "display_name": "",
   "name": ""
  },
  "language_info": {
   "codemirror_mode": {
    "name": "ipython",
    "version": 2
   },
   "file_extension": ".py",
   "mimetype": "text/x-python",
   "name": "python",
   "nbconvert_exporter": "python",
   "pygments_lexer": "ipython2",
   "version": "2.7.15"
  }
 },
 "nbformat": 4,
 "nbformat_minor": 2
}
