{
 "cells": [
  {
   "cell_type": "code",
   "execution_count": 291,
   "metadata": {},
   "outputs": [
    {
     "name": "stdout",
     "output_type": "stream",
     "text": [
      "The autoreload extension is already loaded. To reload it, use:\n",
      "  %reload_ext autoreload\n"
     ]
    }
   ],
   "source": [
    "%load_ext autoreload\n",
    "%autoreload 2\n",
    "from spherical_opt import spherical_opt\n",
    "import numpy as np\n",
    "from scipy.special import sph_harm\n",
    "from scipy.optimize import minimize\n",
    "import copy"
   ]
  },
  {
   "cell_type": "code",
   "execution_count": 2,
   "metadata": {},
   "outputs": [],
   "source": [
    "def fun(x):\n",
    "    return np.sum(np.square(x))"
   ]
  },
  {
   "cell_type": "code",
   "execution_count": 322,
   "metadata": {},
   "outputs": [],
   "source": [
    "counter = 0"
   ]
  },
  {
   "cell_type": "code",
   "execution_count": 353,
   "metadata": {},
   "outputs": [],
   "source": [
    "def fun(x):\n",
    "    #print x\n",
    "    #counter += 1\n",
    "    #new_y, new_x = rotate_point(x[1], x[0], 0, 0)#np.pi)\n",
    "    #if not bad:\n",
    "    #    new_x -= np.pi\n",
    "    #    new_x = new_x % (2*np.pi)\n",
    "    \n",
    "    \n",
    "    val = sph_harm(1,1,(x[0])%(2*np.pi),x[1]).real\n",
    "    #val += (np.random.randn()-1)/200.\n",
    "    \n",
    "    val += np.sum(np.square(x[2:]))\n",
    "    \n",
    "    return val"
   ]
  },
  {
   "cell_type": "code",
   "execution_count": 354,
   "metadata": {},
   "outputs": [
    {
     "data": {
      "text/plain": [
       "2.152801548809627"
      ]
     },
     "execution_count": 354,
     "metadata": {},
     "output_type": "execute_result"
    }
   ],
   "source": [
    "fun(np.random.rand(10))"
   ]
  },
  {
   "cell_type": "code",
   "execution_count": 355,
   "metadata": {},
   "outputs": [],
   "source": [
    "initial_points = np.random.rand(42).reshape(-1,6)/100\n",
    "x0 = copy.copy(initial_points)"
   ]
  },
  {
   "cell_type": "code",
   "execution_count": 358,
   "metadata": {},
   "outputs": [
    {
     "data": {
      "text/plain": [
       "{'final_simplex': [array([[ 5.83198475e-01,  8.22121094e-01, -7.02207318e-02,\n",
       "           1.71990508e-02,  2.94042303e-04,  1.85089856e-01],\n",
       "         [ 4.59420717e-01,  7.22436783e-01, -9.94395508e-02,\n",
       "           2.27562765e-02,  5.39109289e-02,  1.52647151e-01],\n",
       "         [ 5.86539513e-01,  9.30589103e-01, -8.19204523e-02,\n",
       "           3.05163203e-02,  6.80390431e-02,  2.33755856e-01],\n",
       "         [ 5.69137540e-01,  6.82805004e-01, -2.66989886e-02,\n",
       "           3.34156775e-02, -6.25502106e-02,  1.28187539e-01],\n",
       "         [ 5.11591692e-01,  7.77444775e-01, -7.31151809e-02,\n",
       "           7.83904711e-02,  3.58345418e-02,  1.69383347e-01],\n",
       "         [ 5.73294594e-01,  8.65232765e-01, -7.81061703e-02,\n",
       "           2.30018471e-02,  6.12309097e-02,  1.79881031e-01],\n",
       "         [ 5.06583760e-01,  7.48737630e-01,  4.26037510e-03,\n",
       "           5.80238738e-02,  3.03313458e-02,  1.98147528e-01]]),\n",
       "  array([-0.17178387, -0.16814454, -0.163853  , -0.16145927, -0.16985578,\n",
       "         -0.17822025, -0.16207825])],\n",
       " 'fun': -0.17822024633247507,\n",
       " 'method': 'Nelder-Mead',\n",
       " 'n_calls': 149,\n",
       " 'nit': 100,\n",
       " 'stopping_flag': -1,\n",
       " 'success': False,\n",
       " 'x': array([ 0.57329459,  0.86523276, -0.07810617,  0.02300185,  0.06123091,\n",
       "         0.17988103])}"
      ]
     },
     "execution_count": 358,
     "metadata": {},
     "output_type": "execute_result"
    }
   ],
   "source": [
    "spherical_opt(fun, method='Nelder-Mead', initial_points=initial_points, fstd=1e-14, max_iter=100)"
   ]
  },
  {
   "cell_type": "code",
   "execution_count": 359,
   "metadata": {},
   "outputs": [
    {
     "data": {
      "text/plain": [
       " final_simplex: (array([[ 5.73294594e-01,  8.65232765e-01, -7.81061703e-02,\n",
       "         2.30018471e-02,  6.12309097e-02,  1.79881031e-01],\n",
       "       [ 5.83198475e-01,  8.22121094e-01, -7.02207318e-02,\n",
       "         1.71990508e-02,  2.94042303e-04,  1.85089856e-01],\n",
       "       [ 4.59420717e-01,  7.22436783e-01, -9.94395508e-02,\n",
       "         2.27562765e-02,  5.39109289e-02,  1.52647151e-01],\n",
       "       [ 5.06583760e-01,  7.48737630e-01,  4.26037510e-03,\n",
       "         5.80238738e-02,  3.03313458e-02,  1.98147528e-01],\n",
       "       [ 5.69137540e-01,  6.82805004e-01, -2.66989886e-02,\n",
       "         3.34156775e-02, -6.25502106e-02,  1.28187539e-01],\n",
       "       [ 4.81202746e-01,  6.09003580e-01, -3.25196301e-02,\n",
       "         4.70794120e-02, -2.83551905e-02,  1.04022961e-01],\n",
       "       [ 5.63235533e-01,  6.70278878e-01, -5.13198653e-03,\n",
       "        -5.60428734e-02, -4.42381708e-02,  1.35221340e-01]]), array([-0.17822025, -0.17178387, -0.16814454, -0.16207825, -0.16145927,\n",
       "       -0.16029707, -0.15806126]))\n",
       "           fun: -0.17822024633247913\n",
       "       message: 'Maximum number of iterations has been exceeded.'\n",
       "          nfev: 146\n",
       "           nit: 100\n",
       "        status: 2\n",
       "       success: False\n",
       "             x: array([ 0.57329459,  0.86523276, -0.07810617,  0.02300185,  0.06123091,\n",
       "        0.17988103])"
      ]
     },
     "execution_count": 359,
     "metadata": {},
     "output_type": "execute_result"
    }
   ],
   "source": [
    "minimize(fun, x0=x0[0], method='Nelder-Mead', options={'initial_simplex':x0, 'fatol':1e-14, 'maxiter':100})"
   ]
  },
  {
   "cell_type": "code",
   "execution_count": 346,
   "metadata": {},
   "outputs": [
    {
     "data": {
      "text/plain": [
       "array([], shape=(0, 0), dtype=float64)"
      ]
     },
     "execution_count": 346,
     "metadata": {},
     "output_type": "execute_result"
    }
   ],
   "source": [
    "np.empty([0,0])"
   ]
  },
  {
   "cell_type": "code",
   "execution_count": 262,
   "metadata": {},
   "outputs": [
    {
     "data": {
      "text/plain": [
       "array([[-0.75587193, -0.09078107, -0.03085477, -0.34437089, -0.74736575,\n",
       "        -0.2947156 ],\n",
       "       [-0.35670272, -0.53235696, -0.83980638, -0.6802951 , -0.58117612,\n",
       "        -0.3501156 ],\n",
       "       [-0.70209995, -0.48589053, -0.84212979, -0.49126415, -0.96899089,\n",
       "        -0.91224072],\n",
       "       [-0.9460988 , -0.42449966, -0.40747986, -0.34052838, -0.28601599,\n",
       "        -0.24871776],\n",
       "       [-0.01827722, -0.03650007, -0.55301592, -0.04128182, -0.70434156,\n",
       "        -0.81484682],\n",
       "       [-0.86777278, -0.09029566, -0.79376815, -0.65718056, -0.23656008,\n",
       "        -0.33786323],\n",
       "       [-0.39007508, -0.46603604, -0.00997351, -0.42636773, -0.4634421 ,\n",
       "        -0.68554474]])"
      ]
     },
     "execution_count": 262,
     "metadata": {},
     "output_type": "execute_result"
    }
   ],
   "source": [
    "initial_points"
   ]
  },
  {
   "cell_type": "code",
   "execution_count": null,
   "metadata": {},
   "outputs": [],
   "source": []
  }
 ],
 "metadata": {
  "kernelspec": {
   "display_name": "",
   "name": ""
  },
  "language_info": {
   "codemirror_mode": {
    "name": "ipython",
    "version": 2
   },
   "file_extension": ".py",
   "mimetype": "text/x-python",
   "name": "python",
   "nbconvert_exporter": "python",
   "pygments_lexer": "ipython2",
   "version": "2.7.15"
  }
 },
 "nbformat": 4,
 "nbformat_minor": 2
}
